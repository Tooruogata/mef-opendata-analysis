{
 "cells": [
  {
   "cell_type": "code",
   "execution_count": 1,
   "id": "c0f8b310",
   "metadata": {},
   "outputs": [],
   "source": [
    "import os\n",
    "import time\n",
    "\n",
    "from urllib.request import urlretrieve\n",
    "import ssl\n",
    "ssl._create_default_https_context = ssl._create_unverified_context\n",
    "\n",
    "import sqlite3\n",
    "import csv"
   ]
  },
  {
   "cell_type": "code",
   "execution_count": null,
   "id": "0d506917",
   "metadata": {},
   "outputs": [],
   "source": [
    "path = '../data'\n",
    "\n",
    "download_folder = os.path.join(path, 'bronze')\n",
    "data_folder = os.path.join(path, 'silver')"
   ]
  },
  {
   "cell_type": "code",
   "execution_count": 5,
   "id": "02d59546",
   "metadata": {},
   "outputs": [],
   "source": [
    "# Decorator to measure time spent in a function\n",
    "def timing_decorator(func):\n",
    "    def wrapper(*args, **kwargs):\n",
    "        start_time = time.time()\n",
    "        print(f\"Starting {func.__name__} at {start_time}...\")\n",
    "        print(f\"{args}\")\n",
    "        result = func(*args, **kwargs)\n",
    "        end_time = time.time()\n",
    "        elapsed_time = end_time - start_time\n",
    "        print(f\"Finished {func.__name__} at {end_time}. Time spent: {elapsed_time:.4f} seconds\")\n",
    "        return result\n",
    "    return wrapper\n"
   ]
  },
  {
   "cell_type": "code",
   "execution_count": 6,
   "id": "c34b46f8",
   "metadata": {},
   "outputs": [],
   "source": [
    "@timing_decorator\n",
    "def pda_mef_download_csv(url, filename):\n",
    "\n",
    "    #Downlad the url file into the filename path\n",
    "    urlretrieve(url, filename)"
   ]
  },
  {
   "cell_type": "code",
   "execution_count": null,
   "id": "31014432",
   "metadata": {},
   "outputs": [],
   "source": [
    "list_dataset = [\n",
    "   # ('INVIERTE', 'DETALLE_INVERSIONES', '', 'csv'),\n",
    "   # ('SIAF', '2020-Gasto-Devengado', '', 'csv'),\n",
    "   # ('SIAF', '2021-Gasto-Devengado', '', 'csv'),\n",
    "   # ('SIAF', '2022-Gasto-Devengado-Diario', '', 'csv'),\n",
    "   # ('SIAF', '2023-Gasto-Devengado-Diario', '', 'csv'),\n",
    "   # ('SIAF', '2024-Gasto-Devengado-Diario', '', 'csv'),\n",
    "    ('SIAF', '2025-Ingreso-Diario', 'ingreso_2025', 'csv'),\n",
    "    ('SIAF', '2025-Ingreso-Diario', 'ingreso_2025', 'zip'),\n",
    "]"
   ]
  },
  {
   "cell_type": "code",
   "execution_count": null,
   "id": "d108c3cb",
   "metadata": {},
   "outputs": [],
   "source": [
    "for args in list_dataset:\n",
    "\n",
    "    #Build the url and filename string\n",
    "    url = f'https://fs.datosabiertos.mef.gob.pe/datastorefiles/{args[1]}.{args[3]}'\n",
    "    filename = path + f'/{download_folder}/{args[0]}_{args[2]}.{args[3]}'\n",
    "\n",
    "    pda_mef_download_csv(url,filename)"
   ]
  }
 ],
 "metadata": {
  "kernelspec": {
   "display_name": "Python 3",
   "language": "python",
   "name": "python3"
  },
  "language_info": {
   "codemirror_mode": {
    "name": "ipython",
    "version": 3
   },
   "file_extension": ".py",
   "mimetype": "text/x-python",
   "name": "python",
   "nbconvert_exporter": "python",
   "pygments_lexer": "ipython3",
   "version": "3.13.0"
  }
 },
 "nbformat": 4,
 "nbformat_minor": 5
}
