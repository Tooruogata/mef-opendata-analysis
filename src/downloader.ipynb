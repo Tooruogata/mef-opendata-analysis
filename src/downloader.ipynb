{
 "cells": [
  {
   "cell_type": "code",
   "execution_count": null,
   "id": "c0f8b310",
   "metadata": {},
   "outputs": [],
   "source": [
    "import os\n",
    "import time\n",
    "\n",
    "from urllib.request import urlretrieve\n",
    "import ssl\n",
    "ssl._create_default_https_context = ssl._create_unverified_context\n",
    "\n",
    "from zipfile import ZipFile\n"
   ]
  },
  {
   "cell_type": "code",
   "execution_count": null,
   "id": "0d506917",
   "metadata": {},
   "outputs": [],
   "source": [
    "path = '../data'\n",
    "\n",
    "download_folder = os.path.join(path, 'bronze')\n",
    "data_folder = os.path.join(path, 'silver')"
   ]
  },
  {
   "cell_type": "code",
   "execution_count": 5,
   "id": "02d59546",
   "metadata": {},
   "outputs": [],
   "source": [
    "# Decorator to measure time spent in a function\n",
    "def timing_decorator(func):\n",
    "    def wrapper(*args, **kwargs):\n",
    "        start_time = time.time()\n",
    "        print(f\"Starting {func.__name__} at {start_time}...\")\n",
    "        print(f\"{args}\")\n",
    "        result = func(*args, **kwargs)\n",
    "        end_time = time.time()\n",
    "        elapsed_time = end_time - start_time\n",
    "        print(f\"Finished {func.__name__} at {end_time}. Time spent: {elapsed_time:.4f} seconds\")\n",
    "        return result\n",
    "    return wrapper\n"
   ]
  },
  {
   "cell_type": "code",
   "execution_count": null,
   "id": "20c1355d",
   "metadata": {},
   "outputs": [],
   "source": [
    "@timing_decorator\n",
    "def pda_mef_download_csv(url, filename_base, ext):\n",
    "    file_path = f\"{filename_base}.{ext}\"\n",
    "    urlretrieve(url, file_path)\n",
    "    print(f\"Downloaded {file_path}\")\n",
    "\n",
    "    if ext == 'zip':\n",
    "        with ZipFile(file_path, 'r') as zip_ref:\n",
    "            extract_path = os.path.dirname(file_path)\n",
    "            zip_ref.extractall(extract_path)\n",
    "            print(f\"Extracted zip to {extract_path}\")\n",
    "\n",
    "            # Rename the first extracted file\n",
    "            extracted_files = zip_ref.namelist()\n",
    "            if extracted_files:\n",
    "                original_path = os.path.join(extract_path, extracted_files[0])\n",
    "                new_path = f\"{filename_base}.csv\"\n",
    "                os.rename(original_path, new_path)\n",
    "                print(f\"Renamed extracted file to {new_path}\")"
   ]
  },
  {
   "cell_type": "code",
   "execution_count": null,
   "id": "31014432",
   "metadata": {},
   "outputs": [],
   "source": [
    "list_dataset = [\n",
    "   # ('INVIERTE', 'DETALLE_INVERSIONES', 'detalle_inversiones', 'csv'),\n",
    "   # ('SIAF', '2025-Ingreso-Diario', 'ingreso_2025', 'csv'),\n",
    "   # ('SIAF', '2025-Ingreso-Diario', 'fzip_ingreso_2025', 'zip'),\n",
    "   # ('SIAF', '2025-Gasto-Diario', 'fzip_gasto_2025', 'zip'),\n",
    "    ('AIRHSP', 'PERSONALSP_2025', 'personal_2025', 'csv'),\n",
    "]"
   ]
  },
  {
   "cell_type": "code",
   "execution_count": 18,
   "id": "7a9f36c0",
   "metadata": {},
   "outputs": [
    {
     "name": "stdout",
     "output_type": "stream",
     "text": [
      "Starting pda_mef_download_csv at 1750110340.365544...\n",
      "('https://fs.datosabiertos.mef.gob.pe/datastorefiles/PERSONALSP_2025.csv', '../data/bronze/AIRHSP_personal_2025', 'csv')\n",
      "Downloaded ../data/bronze/AIRHSP_personal_2025.csv\n",
      "Finished pda_mef_download_csv at 1750110355.8906486. Time spent: 15.5251 seconds\n"
     ]
    }
   ],
   "source": [
    "for args in list_dataset:\n",
    "    url = f'https://fs.datosabiertos.mef.gob.pe/datastorefiles/{args[1]}.{args[3]}'\n",
    "    filename_base = os.path.join(download_folder, f\"{args[0]}_{args[2]}\")\n",
    "    pda_mef_download_csv(url, filename_base, args[3])"
   ]
  }
 ],
 "metadata": {
  "kernelspec": {
   "display_name": "Python 3",
   "language": "python",
   "name": "python3"
  },
  "language_info": {
   "codemirror_mode": {
    "name": "ipython",
    "version": 3
   },
   "file_extension": ".py",
   "mimetype": "text/x-python",
   "name": "python",
   "nbconvert_exporter": "python",
   "pygments_lexer": "ipython3",
   "version": "3.13.0"
  }
 },
 "nbformat": 4,
 "nbformat_minor": 5
}
